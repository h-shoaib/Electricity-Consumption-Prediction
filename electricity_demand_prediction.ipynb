{
 "cells": [
  {
   "cell_type": "markdown",
   "id": "5881d305",
   "metadata": {},
   "source": [
    "# Data Mining Project Assignment"
   ]
  },
  {
   "cell_type": "markdown",
   "id": "a6006097",
   "metadata": {},
   "source": [
    "## Importing Libraries"
   ]
  },
  {
   "cell_type": "code",
   "execution_count": 3,
   "id": "c7aa9525-e90a-473f-9b24-becd37e0a037",
   "metadata": {},
   "outputs": [],
   "source": [
    "%matplotlib inline\n",
    "import gradio as gr\n",
    "import numpy as np\n",
    "import matplotlib.pyplot as plt\n",
    "import pandas as pd\n",
    "import feyn\n",
    "from sklearn.model_selection import train_test_split\n",
    "import xgboost as xg \n",
    "from sklearn.svm import SVR \n",
    "from sklearn import metrics\n",
    "from sklearn.ensemble import RandomForestRegressor\n",
    "from sklearn.linear_model import LinearRegression\n",
    "from sklearn.linear_model import LassoCV, Lasso\n",
    "from sklearn.preprocessing import StandardScaler"
   ]
  },
  {
   "cell_type": "markdown",
   "id": "ec20d98d",
   "metadata": {},
   "source": [
    "## Feature Engineering"
   ]
  },
  {
   "cell_type": "code",
   "execution_count": 4,
   "id": "e320191b-82fa-4e78-acc4-267c6c226208",
   "metadata": {},
   "outputs": [],
   "source": [
    "data = pd.read_csv('/Users/haroonshoaib/Developer/Github/EnergyConsumptionPrediction/EnergyConsumptionPredictionFiles/clean-preprocessed_last.csv')\n",
    "data.rename(columns = {'Unnamed: 0':'date'}, inplace = True)\n",
    "data = data.drop(['year'],axis=1)\n",
    "#data = data.astype({'week_of_year':'string'})\n",
    "data = data.astype({'sun_rise':'int'})\n",
    "data['date'] = pd.to_datetime(data['date'])\n",
    "data['year'] = data['date'].dt.year\n",
    "data['day'] = data['date'].dt.day\n",
    "data['month'] = data['date'].dt.month\n",
    "data = data.drop(['date','sun_rise'],axis=1)\n",
    "\n",
    "#print(data)\n",
    "#gr.themes.builder()"
   ]
  },
  {
   "cell_type": "markdown",
   "id": "ca733e3c",
   "metadata": {},
   "source": [
    "## Train-test Split"
   ]
  },
  {
   "cell_type": "code",
   "execution_count": 5,
   "id": "cec9f890-188e-43e4-938d-6a1c7245998f",
   "metadata": {},
   "outputs": [
    {
     "name": "stdout",
     "output_type": "stream",
     "text": [
      "(31, 42)\n",
      "(9131, 42)\n",
      "(31,)\n"
     ]
    },
    {
     "data": {
      "text/plain": [
       "array([13342., 14272., 14744., ..., 16863., 13590., 13887.])"
      ]
     },
     "execution_count": 5,
     "metadata": {},
     "output_type": "execute_result"
    }
   ],
   "source": [
    "x = data.loc[:, data.columns != 'hourly_demand'].values\n",
    "y = data.loc[:, 'hourly_demand'].values\n",
    "x_graph = data.loc[9100:, data.columns != 'hourly_demand'].values\n",
    "pred_graph = data.loc[9100:, 'hourly_demand'].values\n",
    "x_train, x_test, y_train, y_test = train_test_split(x, y, test_size=0.33, random_state=42)\n",
    "print(x_graph.shape)\n",
    "print(x.shape)\n",
    "print(pred_graph.shape)\n",
    "qtrain, qtest = feyn.tools.split(data, ratio=[0.7, 0.3], random_state=42)\n",
    "qytest = qtest.loc[:, 'hourly_demand'].values\n",
    "qytest\n",
    "#y = data.loc[:, 'hourly_demand'].values"
   ]
  },
  {
   "cell_type": "code",
   "execution_count": 6,
   "id": "ae622d29-3993-4a94-a04a-838c65e873e4",
   "metadata": {},
   "outputs": [
    {
     "data": {
      "text/html": [
       "<?xml version=\"1.0\" encoding=\"utf-8\" ?>\n",
       "<svg baseProfile=\"full\" height=\"160.0\" preserveAspectRatio=\"none\" version=\"1.1\" viewBox=\"0 0 591 160.0\" width=\"591\" xmlns=\"http://www.w3.org/2000/svg\" xmlns:ev=\"http://www.w3.org/2001/xml-events\" xmlns:xlink=\"http://www.w3.org/1999/xlink\"><defs /><svg class=\"graph\" height=\"155.0\" width=\"591\" x=\"0\" y=\"0\"><defs /><text fill=\"#1E1E1E\" font-family=\"monospace\" font-size=\"12\" text-anchor=\"middle\" x=\"526.0\" y=\"99.0\">Loss: 6.44E+05</text><text fill=\"#1E1E1E\" font-family=\"monospace\" font-size=\"12\" text-anchor=\"start\" x=\"0\" y=\"145.0\">Epoch no. 10/10 - Tried 10463 models - Completed in 12s.</text><rect class=\"node\" fill=\"#00F082\" height=\"35\" stroke=\"#1E1E1E\" stroke-width=\"1\" width=\"90\" x=\"481\" y=\"50.0\"><title>hourly_demand\n",
       "linear:\n",
       "scale=5133.000000\n",
       "scale offset=0.000000\n",
       "w=1.446708\n",
       "bias=3.6398</title></rect><text fill=\"#1E1E1E\" font-family=\"monospace\" font-size=\"12\" style=\"pointer-events:none\" text-anchor=\"middle\" x=\"526.0\" y=\"71.5\">hourly_d..</text><text fill=\"#1E1E1E\" font-family=\"monospace\" font-size=\"10\" style=\"pointer-events:none\" text-anchor=\"end\" x=\"569\" y=\"59.0\">0</text><text fill=\"#1E1E1E\" font-family=\"monospace\" font-size=\"10\" style=\"pointer-events:none\" text-anchor=\"start\" x=\"483\" y=\"59.0\">out</text><line stroke=\"#1E1E1E\" x1=\"451\" x2=\"481\" y1=\"67.5\" y2=\"67.5\" /><rect class=\"node\" fill=\"#FAFAFA\" height=\"35\" stroke=\"#FF1EC8\" stroke-width=\"1\" width=\"90\" x=\"361\" y=\"50.0\"><title>multiply</title></rect><text fill=\"#1E1E1E\" font-family=\"monospace\" font-size=\"12\" style=\"pointer-events:none\" text-anchor=\"middle\" x=\"406.0\" y=\"71.5\">multiply</text><text fill=\"#1E1E1E\" font-family=\"monospace\" font-size=\"10\" style=\"pointer-events:none\" text-anchor=\"end\" x=\"449\" y=\"59.0\">1</text><line stroke=\"#1E1E1E\" x1=\"331\" x2=\"361\" y1=\"37.5\" y2=\"58.5\" /><line stroke=\"#1E1E1E\" x1=\"331\" x2=\"361\" y1=\"97.5\" y2=\"76.5\" /><rect class=\"node\" fill=\"#FAFAFA\" height=\"35\" stroke=\"#FF1EC8\" stroke-width=\"1\" width=\"90\" x=\"241\" y=\"20.0\"><title>gaussian</title></rect><text fill=\"#1E1E1E\" font-family=\"monospace\" font-size=\"12\" style=\"pointer-events:none\" text-anchor=\"middle\" x=\"286.0\" y=\"41.5\">gaussian</text><text fill=\"#1E1E1E\" font-family=\"monospace\" font-size=\"10\" style=\"pointer-events:none\" text-anchor=\"end\" x=\"329\" y=\"29.0\">2</text><line stroke=\"#1E1E1E\" x1=\"211\" x2=\"241\" y1=\"37.5\" y2=\"28.5\" /><line stroke=\"#1E1E1E\" x1=\"211\" x2=\"241\" y1=\"97.5\" y2=\"46.5\" /><rect class=\"node\" fill=\"#00F082\" height=\"35\" stroke=\"#1E1E1E\" stroke-width=\"1\" width=\"90\" x=\"121\" y=\"20.0\"><title>temp_mean\n",
       "linear:\n",
       "scale=0.037319\n",
       "scale offset=8.922682\n",
       "w=-0.893571\n",
       "bias=0.5012</title></rect><text fill=\"#1E1E1E\" font-family=\"monospace\" font-size=\"12\" style=\"pointer-events:none\" text-anchor=\"middle\" x=\"166.0\" y=\"41.5\">temp_mean</text><text fill=\"#1E1E1E\" font-family=\"monospace\" font-size=\"10\" style=\"pointer-events:none\" text-anchor=\"end\" x=\"209\" y=\"29.0\">3</text><text fill=\"#1E1E1E\" font-family=\"monospace\" font-size=\"10\" style=\"pointer-events:none\" text-anchor=\"start\" x=\"123\" y=\"29.0\">num</text><rect class=\"node\" fill=\"#FAFAFA\" height=\"35\" stroke=\"#FF1EC8\" stroke-width=\"1\" width=\"90\" x=\"121\" y=\"80.0\"><title>gaussian</title></rect><text fill=\"#1E1E1E\" font-family=\"monospace\" font-size=\"12\" style=\"pointer-events:none\" text-anchor=\"middle\" x=\"166.0\" y=\"101.5\">gaussian</text><text fill=\"#1E1E1E\" font-family=\"monospace\" font-size=\"10\" style=\"pointer-events:none\" text-anchor=\"end\" x=\"209\" y=\"89.0\">4</text><line stroke=\"#1E1E1E\" x1=\"91\" x2=\"121\" y1=\"37.5\" y2=\"88.5\" /><line stroke=\"#1E1E1E\" x1=\"91\" x2=\"121\" y1=\"97.5\" y2=\"106.5\" /><rect class=\"node\" fill=\"#00F082\" height=\"35\" stroke=\"#1E1E1E\" stroke-width=\"1\" width=\"90\" x=\"1\" y=\"20.0\"><title>temp_median\n",
       "linear:\n",
       "scale=0.037418\n",
       "scale offset=9.104817\n",
       "w=0.192254\n",
       "bias=0.6049</title></rect><text fill=\"#1E1E1E\" font-family=\"monospace\" font-size=\"12\" style=\"pointer-events:none\" text-anchor=\"middle\" x=\"46.0\" y=\"41.5\">temp_med..</text><text fill=\"#1E1E1E\" font-family=\"monospace\" font-size=\"10\" style=\"pointer-events:none\" text-anchor=\"end\" x=\"89\" y=\"29.0\">5</text><text fill=\"#1E1E1E\" font-family=\"monospace\" font-size=\"10\" style=\"pointer-events:none\" text-anchor=\"start\" x=\"3\" y=\"29.0\">num</text><rect class=\"node\" fill=\"#00F082\" height=\"35\" stroke=\"#1E1E1E\" stroke-width=\"1\" width=\"90\" x=\"1\" y=\"80.0\"><title>year\n",
       "linear:\n",
       "scale=0.083333\n",
       "scale offset=2006.051940\n",
       "w=0.983898\n",
       "bias=0.2358</title></rect><text fill=\"#1E1E1E\" font-family=\"monospace\" font-size=\"12\" style=\"pointer-events:none\" text-anchor=\"middle\" x=\"46.0\" y=\"101.5\">year</text><text fill=\"#1E1E1E\" font-family=\"monospace\" font-size=\"10\" style=\"pointer-events:none\" text-anchor=\"end\" x=\"89\" y=\"89.0\">6</text><text fill=\"#1E1E1E\" font-family=\"monospace\" font-size=\"10\" style=\"pointer-events:none\" text-anchor=\"start\" x=\"3\" y=\"89.0\">num</text><rect class=\"node\" fill=\"#00F082\" height=\"35\" stroke=\"#1E1E1E\" stroke-width=\"1\" width=\"90\" x=\"241\" y=\"80.0\"><title>hmdxx_mean\n",
       "linear:\n",
       "scale=0.028614\n",
       "scale offset=8.668717\n",
       "w=1.456240\n",
       "bias=-1.3319</title></rect><text fill=\"#1E1E1E\" font-family=\"monospace\" font-size=\"12\" style=\"pointer-events:none\" text-anchor=\"middle\" x=\"286.0\" y=\"101.5\">hmdxx_mean</text><text fill=\"#1E1E1E\" font-family=\"monospace\" font-size=\"10\" style=\"pointer-events:none\" text-anchor=\"end\" x=\"329\" y=\"89.0\">7</text><text fill=\"#1E1E1E\" font-family=\"monospace\" font-size=\"10\" style=\"pointer-events:none\" text-anchor=\"start\" x=\"243\" y=\"89.0\">num</text></svg></svg>"
      ],
      "text/plain": [
       "<IPython.core.display.HTML object>"
      ]
     },
     "metadata": {},
     "output_type": "display_data"
    }
   ],
   "source": [
    "# Instantiate a QLattice\n",
    "ql = feyn.QLattice(random_seed=42)\n",
    "\n",
    "# Sample and fit models\n",
    "qmodels = ql.auto_run(\n",
    "    data=qtrain,\n",
    "    output_name='hourly_demand'\n",
    ")\n",
    "best = qmodels[0]"
   ]
  },
  {
   "cell_type": "markdown",
   "id": "04a9fb4d",
   "metadata": {},
   "source": [
    "## Training Data with XGBoost Model"
   ]
  },
  {
   "cell_type": "code",
   "execution_count": 7,
   "id": "5649f216-3088-422e-aee7-81deefbef34d",
   "metadata": {},
   "outputs": [
    {
     "data": {
      "text/html": [
       "<style>#sk-container-id-1 {color: black;}#sk-container-id-1 pre{padding: 0;}#sk-container-id-1 div.sk-toggleable {background-color: white;}#sk-container-id-1 label.sk-toggleable__label {cursor: pointer;display: block;width: 100%;margin-bottom: 0;padding: 0.3em;box-sizing: border-box;text-align: center;}#sk-container-id-1 label.sk-toggleable__label-arrow:before {content: \"▸\";float: left;margin-right: 0.25em;color: #696969;}#sk-container-id-1 label.sk-toggleable__label-arrow:hover:before {color: black;}#sk-container-id-1 div.sk-estimator:hover label.sk-toggleable__label-arrow:before {color: black;}#sk-container-id-1 div.sk-toggleable__content {max-height: 0;max-width: 0;overflow: hidden;text-align: left;background-color: #f0f8ff;}#sk-container-id-1 div.sk-toggleable__content pre {margin: 0.2em;color: black;border-radius: 0.25em;background-color: #f0f8ff;}#sk-container-id-1 input.sk-toggleable__control:checked~div.sk-toggleable__content {max-height: 200px;max-width: 100%;overflow: auto;}#sk-container-id-1 input.sk-toggleable__control:checked~label.sk-toggleable__label-arrow:before {content: \"▾\";}#sk-container-id-1 div.sk-estimator input.sk-toggleable__control:checked~label.sk-toggleable__label {background-color: #d4ebff;}#sk-container-id-1 div.sk-label input.sk-toggleable__control:checked~label.sk-toggleable__label {background-color: #d4ebff;}#sk-container-id-1 input.sk-hidden--visually {border: 0;clip: rect(1px 1px 1px 1px);clip: rect(1px, 1px, 1px, 1px);height: 1px;margin: -1px;overflow: hidden;padding: 0;position: absolute;width: 1px;}#sk-container-id-1 div.sk-estimator {font-family: monospace;background-color: #f0f8ff;border: 1px dotted black;border-radius: 0.25em;box-sizing: border-box;margin-bottom: 0.5em;}#sk-container-id-1 div.sk-estimator:hover {background-color: #d4ebff;}#sk-container-id-1 div.sk-parallel-item::after {content: \"\";width: 100%;border-bottom: 1px solid gray;flex-grow: 1;}#sk-container-id-1 div.sk-label:hover label.sk-toggleable__label {background-color: #d4ebff;}#sk-container-id-1 div.sk-serial::before {content: \"\";position: absolute;border-left: 1px solid gray;box-sizing: border-box;top: 0;bottom: 0;left: 50%;z-index: 0;}#sk-container-id-1 div.sk-serial {display: flex;flex-direction: column;align-items: center;background-color: white;padding-right: 0.2em;padding-left: 0.2em;position: relative;}#sk-container-id-1 div.sk-item {position: relative;z-index: 1;}#sk-container-id-1 div.sk-parallel {display: flex;align-items: stretch;justify-content: center;background-color: white;position: relative;}#sk-container-id-1 div.sk-item::before, #sk-container-id-1 div.sk-parallel-item::before {content: \"\";position: absolute;border-left: 1px solid gray;box-sizing: border-box;top: 0;bottom: 0;left: 50%;z-index: -1;}#sk-container-id-1 div.sk-parallel-item {display: flex;flex-direction: column;z-index: 1;position: relative;background-color: white;}#sk-container-id-1 div.sk-parallel-item:first-child::after {align-self: flex-end;width: 50%;}#sk-container-id-1 div.sk-parallel-item:last-child::after {align-self: flex-start;width: 50%;}#sk-container-id-1 div.sk-parallel-item:only-child::after {width: 0;}#sk-container-id-1 div.sk-dashed-wrapped {border: 1px dashed gray;margin: 0 0.4em 0.5em 0.4em;box-sizing: border-box;padding-bottom: 0.4em;background-color: white;}#sk-container-id-1 div.sk-label label {font-family: monospace;font-weight: bold;display: inline-block;line-height: 1.2em;}#sk-container-id-1 div.sk-label-container {text-align: center;}#sk-container-id-1 div.sk-container {/* jupyter's `normalize.less` sets `[hidden] { display: none; }` but bootstrap.min.css set `[hidden] { display: none !important; }` so we also need the `!important` here to be able to override the default hidden behavior on the sphinx rendered scikit-learn.org. See: https://github.com/scikit-learn/scikit-learn/issues/21755 */display: inline-block !important;position: relative;}#sk-container-id-1 div.sk-text-repr-fallback {display: none;}</style><div id=\"sk-container-id-1\" class=\"sk-top-container\"><div class=\"sk-text-repr-fallback\"><pre>XGBRegressor(base_score=None, booster=None, callbacks=None,\n",
       "             colsample_bylevel=None, colsample_bynode=None,\n",
       "             colsample_bytree=None, device=None, early_stopping_rounds=None,\n",
       "             enable_categorical=False, eval_metric=None, feature_types=None,\n",
       "             gamma=None, grow_policy=None, importance_type=None,\n",
       "             interaction_constraints=None, learning_rate=None, max_bin=None,\n",
       "             max_cat_threshold=None, max_cat_to_onehot=None,\n",
       "             max_delta_step=None, max_depth=None, max_leaves=None,\n",
       "             min_child_weight=None, missing=nan, monotone_constraints=None,\n",
       "             multi_strategy=None, n_estimators=10, n_jobs=None,\n",
       "             num_parallel_tree=None, random_state=None, ...)</pre><b>In a Jupyter environment, please rerun this cell to show the HTML representation or trust the notebook. <br />On GitHub, the HTML representation is unable to render, please try loading this page with nbviewer.org.</b></div><div class=\"sk-container\" hidden><div class=\"sk-item\"><div class=\"sk-estimator sk-toggleable\"><input class=\"sk-toggleable__control sk-hidden--visually\" id=\"sk-estimator-id-1\" type=\"checkbox\" checked><label for=\"sk-estimator-id-1\" class=\"sk-toggleable__label sk-toggleable__label-arrow\">XGBRegressor</label><div class=\"sk-toggleable__content\"><pre>XGBRegressor(base_score=None, booster=None, callbacks=None,\n",
       "             colsample_bylevel=None, colsample_bynode=None,\n",
       "             colsample_bytree=None, device=None, early_stopping_rounds=None,\n",
       "             enable_categorical=False, eval_metric=None, feature_types=None,\n",
       "             gamma=None, grow_policy=None, importance_type=None,\n",
       "             interaction_constraints=None, learning_rate=None, max_bin=None,\n",
       "             max_cat_threshold=None, max_cat_to_onehot=None,\n",
       "             max_delta_step=None, max_depth=None, max_leaves=None,\n",
       "             min_child_weight=None, missing=nan, monotone_constraints=None,\n",
       "             multi_strategy=None, n_estimators=10, n_jobs=None,\n",
       "             num_parallel_tree=None, random_state=None, ...)</pre></div></div></div></div></div>"
      ],
      "text/plain": [
       "XGBRegressor(base_score=None, booster=None, callbacks=None,\n",
       "             colsample_bylevel=None, colsample_bynode=None,\n",
       "             colsample_bytree=None, device=None, early_stopping_rounds=None,\n",
       "             enable_categorical=False, eval_metric=None, feature_types=None,\n",
       "             gamma=None, grow_policy=None, importance_type=None,\n",
       "             interaction_constraints=None, learning_rate=None, max_bin=None,\n",
       "             max_cat_threshold=None, max_cat_to_onehot=None,\n",
       "             max_delta_step=None, max_depth=None, max_leaves=None,\n",
       "             min_child_weight=None, missing=nan, monotone_constraints=None,\n",
       "             multi_strategy=None, n_estimators=10, n_jobs=None,\n",
       "             num_parallel_tree=None, random_state=None, ...)"
      ]
     },
     "execution_count": 7,
     "metadata": {},
     "output_type": "execute_result"
    }
   ],
   "source": [
    "xgb_r = xg.XGBRegressor(objective ='reg:squarederror', n_estimators = 10, seed = 123)\n",
    "xgb_r.fit(x_train, y_train) "
   ]
  },
  {
   "cell_type": "markdown",
   "id": "2a41a252",
   "metadata": {},
   "source": [
    "## Training Data with SVR Model"
   ]
  },
  {
   "cell_type": "code",
   "execution_count": 8,
   "id": "43c7f30b-6816-4f85-af85-dd7abe14fcdf",
   "metadata": {},
   "outputs": [
    {
     "data": {
      "text/html": [
       "<style>#sk-container-id-2 {color: black;}#sk-container-id-2 pre{padding: 0;}#sk-container-id-2 div.sk-toggleable {background-color: white;}#sk-container-id-2 label.sk-toggleable__label {cursor: pointer;display: block;width: 100%;margin-bottom: 0;padding: 0.3em;box-sizing: border-box;text-align: center;}#sk-container-id-2 label.sk-toggleable__label-arrow:before {content: \"▸\";float: left;margin-right: 0.25em;color: #696969;}#sk-container-id-2 label.sk-toggleable__label-arrow:hover:before {color: black;}#sk-container-id-2 div.sk-estimator:hover label.sk-toggleable__label-arrow:before {color: black;}#sk-container-id-2 div.sk-toggleable__content {max-height: 0;max-width: 0;overflow: hidden;text-align: left;background-color: #f0f8ff;}#sk-container-id-2 div.sk-toggleable__content pre {margin: 0.2em;color: black;border-radius: 0.25em;background-color: #f0f8ff;}#sk-container-id-2 input.sk-toggleable__control:checked~div.sk-toggleable__content {max-height: 200px;max-width: 100%;overflow: auto;}#sk-container-id-2 input.sk-toggleable__control:checked~label.sk-toggleable__label-arrow:before {content: \"▾\";}#sk-container-id-2 div.sk-estimator input.sk-toggleable__control:checked~label.sk-toggleable__label {background-color: #d4ebff;}#sk-container-id-2 div.sk-label input.sk-toggleable__control:checked~label.sk-toggleable__label {background-color: #d4ebff;}#sk-container-id-2 input.sk-hidden--visually {border: 0;clip: rect(1px 1px 1px 1px);clip: rect(1px, 1px, 1px, 1px);height: 1px;margin: -1px;overflow: hidden;padding: 0;position: absolute;width: 1px;}#sk-container-id-2 div.sk-estimator {font-family: monospace;background-color: #f0f8ff;border: 1px dotted black;border-radius: 0.25em;box-sizing: border-box;margin-bottom: 0.5em;}#sk-container-id-2 div.sk-estimator:hover {background-color: #d4ebff;}#sk-container-id-2 div.sk-parallel-item::after {content: \"\";width: 100%;border-bottom: 1px solid gray;flex-grow: 1;}#sk-container-id-2 div.sk-label:hover label.sk-toggleable__label {background-color: #d4ebff;}#sk-container-id-2 div.sk-serial::before {content: \"\";position: absolute;border-left: 1px solid gray;box-sizing: border-box;top: 0;bottom: 0;left: 50%;z-index: 0;}#sk-container-id-2 div.sk-serial {display: flex;flex-direction: column;align-items: center;background-color: white;padding-right: 0.2em;padding-left: 0.2em;position: relative;}#sk-container-id-2 div.sk-item {position: relative;z-index: 1;}#sk-container-id-2 div.sk-parallel {display: flex;align-items: stretch;justify-content: center;background-color: white;position: relative;}#sk-container-id-2 div.sk-item::before, #sk-container-id-2 div.sk-parallel-item::before {content: \"\";position: absolute;border-left: 1px solid gray;box-sizing: border-box;top: 0;bottom: 0;left: 50%;z-index: -1;}#sk-container-id-2 div.sk-parallel-item {display: flex;flex-direction: column;z-index: 1;position: relative;background-color: white;}#sk-container-id-2 div.sk-parallel-item:first-child::after {align-self: flex-end;width: 50%;}#sk-container-id-2 div.sk-parallel-item:last-child::after {align-self: flex-start;width: 50%;}#sk-container-id-2 div.sk-parallel-item:only-child::after {width: 0;}#sk-container-id-2 div.sk-dashed-wrapped {border: 1px dashed gray;margin: 0 0.4em 0.5em 0.4em;box-sizing: border-box;padding-bottom: 0.4em;background-color: white;}#sk-container-id-2 div.sk-label label {font-family: monospace;font-weight: bold;display: inline-block;line-height: 1.2em;}#sk-container-id-2 div.sk-label-container {text-align: center;}#sk-container-id-2 div.sk-container {/* jupyter's `normalize.less` sets `[hidden] { display: none; }` but bootstrap.min.css set `[hidden] { display: none !important; }` so we also need the `!important` here to be able to override the default hidden behavior on the sphinx rendered scikit-learn.org. See: https://github.com/scikit-learn/scikit-learn/issues/21755 */display: inline-block !important;position: relative;}#sk-container-id-2 div.sk-text-repr-fallback {display: none;}</style><div id=\"sk-container-id-2\" class=\"sk-top-container\"><div class=\"sk-text-repr-fallback\"><pre>SVR(kernel=&#x27;linear&#x27;)</pre><b>In a Jupyter environment, please rerun this cell to show the HTML representation or trust the notebook. <br />On GitHub, the HTML representation is unable to render, please try loading this page with nbviewer.org.</b></div><div class=\"sk-container\" hidden><div class=\"sk-item\"><div class=\"sk-estimator sk-toggleable\"><input class=\"sk-toggleable__control sk-hidden--visually\" id=\"sk-estimator-id-2\" type=\"checkbox\" checked><label for=\"sk-estimator-id-2\" class=\"sk-toggleable__label sk-toggleable__label-arrow\">SVR</label><div class=\"sk-toggleable__content\"><pre>SVR(kernel=&#x27;linear&#x27;)</pre></div></div></div></div></div>"
      ],
      "text/plain": [
       "SVR(kernel='linear')"
      ]
     },
     "execution_count": 8,
     "metadata": {},
     "output_type": "execute_result"
    }
   ],
   "source": [
    "svr = SVR(kernel='linear') \n",
    "svr.fit(x_train, y_train) "
   ]
  },
  {
   "cell_type": "markdown",
   "id": "21038c59",
   "metadata": {},
   "source": [
    "## Training Data with Random Forest Regressor Model"
   ]
  },
  {
   "cell_type": "code",
   "execution_count": 9,
   "id": "84cef573-85c2-4317-8f47-b4f5064dd5ec",
   "metadata": {},
   "outputs": [
    {
     "data": {
      "text/html": [
       "<style>#sk-container-id-3 {color: black;}#sk-container-id-3 pre{padding: 0;}#sk-container-id-3 div.sk-toggleable {background-color: white;}#sk-container-id-3 label.sk-toggleable__label {cursor: pointer;display: block;width: 100%;margin-bottom: 0;padding: 0.3em;box-sizing: border-box;text-align: center;}#sk-container-id-3 label.sk-toggleable__label-arrow:before {content: \"▸\";float: left;margin-right: 0.25em;color: #696969;}#sk-container-id-3 label.sk-toggleable__label-arrow:hover:before {color: black;}#sk-container-id-3 div.sk-estimator:hover label.sk-toggleable__label-arrow:before {color: black;}#sk-container-id-3 div.sk-toggleable__content {max-height: 0;max-width: 0;overflow: hidden;text-align: left;background-color: #f0f8ff;}#sk-container-id-3 div.sk-toggleable__content pre {margin: 0.2em;color: black;border-radius: 0.25em;background-color: #f0f8ff;}#sk-container-id-3 input.sk-toggleable__control:checked~div.sk-toggleable__content {max-height: 200px;max-width: 100%;overflow: auto;}#sk-container-id-3 input.sk-toggleable__control:checked~label.sk-toggleable__label-arrow:before {content: \"▾\";}#sk-container-id-3 div.sk-estimator input.sk-toggleable__control:checked~label.sk-toggleable__label {background-color: #d4ebff;}#sk-container-id-3 div.sk-label input.sk-toggleable__control:checked~label.sk-toggleable__label {background-color: #d4ebff;}#sk-container-id-3 input.sk-hidden--visually {border: 0;clip: rect(1px 1px 1px 1px);clip: rect(1px, 1px, 1px, 1px);height: 1px;margin: -1px;overflow: hidden;padding: 0;position: absolute;width: 1px;}#sk-container-id-3 div.sk-estimator {font-family: monospace;background-color: #f0f8ff;border: 1px dotted black;border-radius: 0.25em;box-sizing: border-box;margin-bottom: 0.5em;}#sk-container-id-3 div.sk-estimator:hover {background-color: #d4ebff;}#sk-container-id-3 div.sk-parallel-item::after {content: \"\";width: 100%;border-bottom: 1px solid gray;flex-grow: 1;}#sk-container-id-3 div.sk-label:hover label.sk-toggleable__label {background-color: #d4ebff;}#sk-container-id-3 div.sk-serial::before {content: \"\";position: absolute;border-left: 1px solid gray;box-sizing: border-box;top: 0;bottom: 0;left: 50%;z-index: 0;}#sk-container-id-3 div.sk-serial {display: flex;flex-direction: column;align-items: center;background-color: white;padding-right: 0.2em;padding-left: 0.2em;position: relative;}#sk-container-id-3 div.sk-item {position: relative;z-index: 1;}#sk-container-id-3 div.sk-parallel {display: flex;align-items: stretch;justify-content: center;background-color: white;position: relative;}#sk-container-id-3 div.sk-item::before, #sk-container-id-3 div.sk-parallel-item::before {content: \"\";position: absolute;border-left: 1px solid gray;box-sizing: border-box;top: 0;bottom: 0;left: 50%;z-index: -1;}#sk-container-id-3 div.sk-parallel-item {display: flex;flex-direction: column;z-index: 1;position: relative;background-color: white;}#sk-container-id-3 div.sk-parallel-item:first-child::after {align-self: flex-end;width: 50%;}#sk-container-id-3 div.sk-parallel-item:last-child::after {align-self: flex-start;width: 50%;}#sk-container-id-3 div.sk-parallel-item:only-child::after {width: 0;}#sk-container-id-3 div.sk-dashed-wrapped {border: 1px dashed gray;margin: 0 0.4em 0.5em 0.4em;box-sizing: border-box;padding-bottom: 0.4em;background-color: white;}#sk-container-id-3 div.sk-label label {font-family: monospace;font-weight: bold;display: inline-block;line-height: 1.2em;}#sk-container-id-3 div.sk-label-container {text-align: center;}#sk-container-id-3 div.sk-container {/* jupyter's `normalize.less` sets `[hidden] { display: none; }` but bootstrap.min.css set `[hidden] { display: none !important; }` so we also need the `!important` here to be able to override the default hidden behavior on the sphinx rendered scikit-learn.org. See: https://github.com/scikit-learn/scikit-learn/issues/21755 */display: inline-block !important;position: relative;}#sk-container-id-3 div.sk-text-repr-fallback {display: none;}</style><div id=\"sk-container-id-3\" class=\"sk-top-container\"><div class=\"sk-text-repr-fallback\"><pre>RandomForestRegressor(random_state=0)</pre><b>In a Jupyter environment, please rerun this cell to show the HTML representation or trust the notebook. <br />On GitHub, the HTML representation is unable to render, please try loading this page with nbviewer.org.</b></div><div class=\"sk-container\" hidden><div class=\"sk-item\"><div class=\"sk-estimator sk-toggleable\"><input class=\"sk-toggleable__control sk-hidden--visually\" id=\"sk-estimator-id-3\" type=\"checkbox\" checked><label for=\"sk-estimator-id-3\" class=\"sk-toggleable__label sk-toggleable__label-arrow\">RandomForestRegressor</label><div class=\"sk-toggleable__content\"><pre>RandomForestRegressor(random_state=0)</pre></div></div></div></div></div>"
      ],
      "text/plain": [
       "RandomForestRegressor(random_state=0)"
      ]
     },
     "execution_count": 9,
     "metadata": {},
     "output_type": "execute_result"
    }
   ],
   "source": [
    "rf = RandomForestRegressor(n_estimators=100,random_state=0)\n",
    "rf.fit(x_train,y_train)"
   ]
  },
  {
   "cell_type": "markdown",
   "id": "4752072c",
   "metadata": {},
   "source": [
    "## Training Data with Linear Regression Model"
   ]
  },
  {
   "cell_type": "code",
   "execution_count": 10,
   "id": "183c6aa0-b9ec-493b-87ba-df18b471ec8b",
   "metadata": {},
   "outputs": [
    {
     "data": {
      "text/html": [
       "<style>#sk-container-id-4 {color: black;}#sk-container-id-4 pre{padding: 0;}#sk-container-id-4 div.sk-toggleable {background-color: white;}#sk-container-id-4 label.sk-toggleable__label {cursor: pointer;display: block;width: 100%;margin-bottom: 0;padding: 0.3em;box-sizing: border-box;text-align: center;}#sk-container-id-4 label.sk-toggleable__label-arrow:before {content: \"▸\";float: left;margin-right: 0.25em;color: #696969;}#sk-container-id-4 label.sk-toggleable__label-arrow:hover:before {color: black;}#sk-container-id-4 div.sk-estimator:hover label.sk-toggleable__label-arrow:before {color: black;}#sk-container-id-4 div.sk-toggleable__content {max-height: 0;max-width: 0;overflow: hidden;text-align: left;background-color: #f0f8ff;}#sk-container-id-4 div.sk-toggleable__content pre {margin: 0.2em;color: black;border-radius: 0.25em;background-color: #f0f8ff;}#sk-container-id-4 input.sk-toggleable__control:checked~div.sk-toggleable__content {max-height: 200px;max-width: 100%;overflow: auto;}#sk-container-id-4 input.sk-toggleable__control:checked~label.sk-toggleable__label-arrow:before {content: \"▾\";}#sk-container-id-4 div.sk-estimator input.sk-toggleable__control:checked~label.sk-toggleable__label {background-color: #d4ebff;}#sk-container-id-4 div.sk-label input.sk-toggleable__control:checked~label.sk-toggleable__label {background-color: #d4ebff;}#sk-container-id-4 input.sk-hidden--visually {border: 0;clip: rect(1px 1px 1px 1px);clip: rect(1px, 1px, 1px, 1px);height: 1px;margin: -1px;overflow: hidden;padding: 0;position: absolute;width: 1px;}#sk-container-id-4 div.sk-estimator {font-family: monospace;background-color: #f0f8ff;border: 1px dotted black;border-radius: 0.25em;box-sizing: border-box;margin-bottom: 0.5em;}#sk-container-id-4 div.sk-estimator:hover {background-color: #d4ebff;}#sk-container-id-4 div.sk-parallel-item::after {content: \"\";width: 100%;border-bottom: 1px solid gray;flex-grow: 1;}#sk-container-id-4 div.sk-label:hover label.sk-toggleable__label {background-color: #d4ebff;}#sk-container-id-4 div.sk-serial::before {content: \"\";position: absolute;border-left: 1px solid gray;box-sizing: border-box;top: 0;bottom: 0;left: 50%;z-index: 0;}#sk-container-id-4 div.sk-serial {display: flex;flex-direction: column;align-items: center;background-color: white;padding-right: 0.2em;padding-left: 0.2em;position: relative;}#sk-container-id-4 div.sk-item {position: relative;z-index: 1;}#sk-container-id-4 div.sk-parallel {display: flex;align-items: stretch;justify-content: center;background-color: white;position: relative;}#sk-container-id-4 div.sk-item::before, #sk-container-id-4 div.sk-parallel-item::before {content: \"\";position: absolute;border-left: 1px solid gray;box-sizing: border-box;top: 0;bottom: 0;left: 50%;z-index: -1;}#sk-container-id-4 div.sk-parallel-item {display: flex;flex-direction: column;z-index: 1;position: relative;background-color: white;}#sk-container-id-4 div.sk-parallel-item:first-child::after {align-self: flex-end;width: 50%;}#sk-container-id-4 div.sk-parallel-item:last-child::after {align-self: flex-start;width: 50%;}#sk-container-id-4 div.sk-parallel-item:only-child::after {width: 0;}#sk-container-id-4 div.sk-dashed-wrapped {border: 1px dashed gray;margin: 0 0.4em 0.5em 0.4em;box-sizing: border-box;padding-bottom: 0.4em;background-color: white;}#sk-container-id-4 div.sk-label label {font-family: monospace;font-weight: bold;display: inline-block;line-height: 1.2em;}#sk-container-id-4 div.sk-label-container {text-align: center;}#sk-container-id-4 div.sk-container {/* jupyter's `normalize.less` sets `[hidden] { display: none; }` but bootstrap.min.css set `[hidden] { display: none !important; }` so we also need the `!important` here to be able to override the default hidden behavior on the sphinx rendered scikit-learn.org. See: https://github.com/scikit-learn/scikit-learn/issues/21755 */display: inline-block !important;position: relative;}#sk-container-id-4 div.sk-text-repr-fallback {display: none;}</style><div id=\"sk-container-id-4\" class=\"sk-top-container\"><div class=\"sk-text-repr-fallback\"><pre>LinearRegression()</pre><b>In a Jupyter environment, please rerun this cell to show the HTML representation or trust the notebook. <br />On GitHub, the HTML representation is unable to render, please try loading this page with nbviewer.org.</b></div><div class=\"sk-container\" hidden><div class=\"sk-item\"><div class=\"sk-estimator sk-toggleable\"><input class=\"sk-toggleable__control sk-hidden--visually\" id=\"sk-estimator-id-4\" type=\"checkbox\" checked><label for=\"sk-estimator-id-4\" class=\"sk-toggleable__label sk-toggleable__label-arrow\">LinearRegression</label><div class=\"sk-toggleable__content\"><pre>LinearRegression()</pre></div></div></div></div></div>"
      ],
      "text/plain": [
       "LinearRegression()"
      ]
     },
     "execution_count": 10,
     "metadata": {},
     "output_type": "execute_result"
    }
   ],
   "source": [
    "model = LinearRegression()\n",
    "model.fit(x_train, y_train)"
   ]
  },
  {
   "cell_type": "markdown",
   "id": "1ea33828",
   "metadata": {},
   "source": [
    "## Scaling data and training the data with Lasso Regression model"
   ]
  },
  {
   "cell_type": "code",
   "execution_count": 11,
   "id": "76c30980-dac7-413e-957d-f8e81591e336",
   "metadata": {},
   "outputs": [
    {
     "name": "stderr",
     "output_type": "stream",
     "text": [
      "/Library/Frameworks/Python.framework/Versions/3.10/lib/python3.10/site-packages/sklearn/linear_model/_coordinate_descent.py:628: ConvergenceWarning: Objective did not converge. You might want to increase the number of iterations, check the scale of the features or consider increasing regularisation. Duality gap: 2.471e+09, tolerance: 1.861e+06\n",
      "  model = cd_fast.enet_coordinate_descent(\n"
     ]
    },
    {
     "data": {
      "text/html": [
       "<style>#sk-container-id-5 {color: black;}#sk-container-id-5 pre{padding: 0;}#sk-container-id-5 div.sk-toggleable {background-color: white;}#sk-container-id-5 label.sk-toggleable__label {cursor: pointer;display: block;width: 100%;margin-bottom: 0;padding: 0.3em;box-sizing: border-box;text-align: center;}#sk-container-id-5 label.sk-toggleable__label-arrow:before {content: \"▸\";float: left;margin-right: 0.25em;color: #696969;}#sk-container-id-5 label.sk-toggleable__label-arrow:hover:before {color: black;}#sk-container-id-5 div.sk-estimator:hover label.sk-toggleable__label-arrow:before {color: black;}#sk-container-id-5 div.sk-toggleable__content {max-height: 0;max-width: 0;overflow: hidden;text-align: left;background-color: #f0f8ff;}#sk-container-id-5 div.sk-toggleable__content pre {margin: 0.2em;color: black;border-radius: 0.25em;background-color: #f0f8ff;}#sk-container-id-5 input.sk-toggleable__control:checked~div.sk-toggleable__content {max-height: 200px;max-width: 100%;overflow: auto;}#sk-container-id-5 input.sk-toggleable__control:checked~label.sk-toggleable__label-arrow:before {content: \"▾\";}#sk-container-id-5 div.sk-estimator input.sk-toggleable__control:checked~label.sk-toggleable__label {background-color: #d4ebff;}#sk-container-id-5 div.sk-label input.sk-toggleable__control:checked~label.sk-toggleable__label {background-color: #d4ebff;}#sk-container-id-5 input.sk-hidden--visually {border: 0;clip: rect(1px 1px 1px 1px);clip: rect(1px, 1px, 1px, 1px);height: 1px;margin: -1px;overflow: hidden;padding: 0;position: absolute;width: 1px;}#sk-container-id-5 div.sk-estimator {font-family: monospace;background-color: #f0f8ff;border: 1px dotted black;border-radius: 0.25em;box-sizing: border-box;margin-bottom: 0.5em;}#sk-container-id-5 div.sk-estimator:hover {background-color: #d4ebff;}#sk-container-id-5 div.sk-parallel-item::after {content: \"\";width: 100%;border-bottom: 1px solid gray;flex-grow: 1;}#sk-container-id-5 div.sk-label:hover label.sk-toggleable__label {background-color: #d4ebff;}#sk-container-id-5 div.sk-serial::before {content: \"\";position: absolute;border-left: 1px solid gray;box-sizing: border-box;top: 0;bottom: 0;left: 50%;z-index: 0;}#sk-container-id-5 div.sk-serial {display: flex;flex-direction: column;align-items: center;background-color: white;padding-right: 0.2em;padding-left: 0.2em;position: relative;}#sk-container-id-5 div.sk-item {position: relative;z-index: 1;}#sk-container-id-5 div.sk-parallel {display: flex;align-items: stretch;justify-content: center;background-color: white;position: relative;}#sk-container-id-5 div.sk-item::before, #sk-container-id-5 div.sk-parallel-item::before {content: \"\";position: absolute;border-left: 1px solid gray;box-sizing: border-box;top: 0;bottom: 0;left: 50%;z-index: -1;}#sk-container-id-5 div.sk-parallel-item {display: flex;flex-direction: column;z-index: 1;position: relative;background-color: white;}#sk-container-id-5 div.sk-parallel-item:first-child::after {align-self: flex-end;width: 50%;}#sk-container-id-5 div.sk-parallel-item:last-child::after {align-self: flex-start;width: 50%;}#sk-container-id-5 div.sk-parallel-item:only-child::after {width: 0;}#sk-container-id-5 div.sk-dashed-wrapped {border: 1px dashed gray;margin: 0 0.4em 0.5em 0.4em;box-sizing: border-box;padding-bottom: 0.4em;background-color: white;}#sk-container-id-5 div.sk-label label {font-family: monospace;font-weight: bold;display: inline-block;line-height: 1.2em;}#sk-container-id-5 div.sk-label-container {text-align: center;}#sk-container-id-5 div.sk-container {/* jupyter's `normalize.less` sets `[hidden] { display: none; }` but bootstrap.min.css set `[hidden] { display: none !important; }` so we also need the `!important` here to be able to override the default hidden behavior on the sphinx rendered scikit-learn.org. See: https://github.com/scikit-learn/scikit-learn/issues/21755 */display: inline-block !important;position: relative;}#sk-container-id-5 div.sk-text-repr-fallback {display: none;}</style><div id=\"sk-container-id-5\" class=\"sk-top-container\"><div class=\"sk-text-repr-fallback\"><pre>Lasso(alpha=0.7995701914430793)</pre><b>In a Jupyter environment, please rerun this cell to show the HTML representation or trust the notebook. <br />On GitHub, the HTML representation is unable to render, please try loading this page with nbviewer.org.</b></div><div class=\"sk-container\" hidden><div class=\"sk-item\"><div class=\"sk-estimator sk-toggleable\"><input class=\"sk-toggleable__control sk-hidden--visually\" id=\"sk-estimator-id-5\" type=\"checkbox\" checked><label for=\"sk-estimator-id-5\" class=\"sk-toggleable__label sk-toggleable__label-arrow\">Lasso</label><div class=\"sk-toggleable__content\"><pre>Lasso(alpha=0.7995701914430793)</pre></div></div></div></div></div>"
      ],
      "text/plain": [
       "Lasso(alpha=0.7995701914430793)"
      ]
     },
     "execution_count": 11,
     "metadata": {},
     "output_type": "execute_result"
    }
   ],
   "source": [
    "sc_X = StandardScaler()\n",
    "X_train = sc_X.fit_transform(x_train)\n",
    "X_test = sc_X.fit_transform(x_test)\n",
    "model = LassoCV(cv=10, random_state=42, max_iter=50000)\n",
    "model.fit(X_train, y_train)\n",
    "lasso_best = Lasso(alpha=model.alpha_)\n",
    "lasso_best.fit(X_train, y_train)\n",
    "#Y_pred = lasso_best.predict(X_test)"
   ]
  },
  {
   "cell_type": "code",
   "execution_count": 12,
   "id": "701f8da6-55e1-4c18-a290-861070786684",
   "metadata": {},
   "outputs": [
    {
     "data": {
      "text/plain": [
       "array([12881.02733162, 13941.54180306, 14869.97034281, ...,\n",
       "       17796.37591006, 13780.72231352, 14552.31557313])"
      ]
     },
     "execution_count": 12,
     "metadata": {},
     "output_type": "execute_result"
    }
   ],
   "source": [
    "p_xgb = xgb_r.predict(x_test)\n",
    "p_rf = rf.predict(x_test)\n",
    "p_svr = svr.predict(x_test)\n",
    "p_mlr = model.predict(X_test)\n",
    "p_lr = lasso_best.predict(X_test)\n",
    "p_ql = best.predict(qtest)\n",
    "\n",
    "p_ql"
   ]
  },
  {
   "cell_type": "code",
   "execution_count": 13,
   "id": "e17fce8f-795b-456f-807e-55ae55fcf829",
   "metadata": {},
   "outputs": [],
   "source": [
    "#r_xgb = metrics.r2_score(y_test,p_xgb)\n",
    "#r_rf = metrics.r2_score(y_test,p_rf)\n",
    "#r_svr = metrics.r2_score(y_test,p_svr)"
   ]
  },
  {
   "cell_type": "code",
   "execution_count": 14,
   "id": "b51dc9a1-7fd2-4217-9187-841064b642a7",
   "metadata": {},
   "outputs": [],
   "source": [
    "#srs = data.loc[(data['month'] == 3) & (data['year'] == 2009),data.columns != 'hourly_demand' ].values\n",
    "#act_val = data.loc[(data['month'] == 3) & (data['year'] == 2009),data.columns == 'hourly_demand' ].values\n",
    "#y_graph = xgb_r.predict(srs)\n",
    "#x_fin = data.loc[(data['month'] == 3) & (data['year'] == 2009),data.columns == 'day' ].values\n",
    "#print(x_fin)\n",
    "#print(act_val.shape)\n",
    "#print(y_graph.shape)\n",
    "#print(srs.shape)\n",
    "#plt.plot(x_fin,y_graph,label = 'Predictions for Selected Month')\n",
    "#plt.plot(x_fin,act_val,label = 'Actual values for Selected Month')"
   ]
  },
  {
   "cell_type": "code",
   "execution_count": 15,
   "id": "30cf1212-cd7b-4293-8c21-6aa363ce8bb8",
   "metadata": {},
   "outputs": [],
   "source": [
    "def make_plot(m,y):\n",
    "    #srs = data[(data['month'] == m) & (df['year'] == y)]\n",
    "    srs = data.loc[(data['month'] == m) & (data['year'] == y),data.columns != 'hourly_demand' ].values\n",
    "    act_val = data.loc[(data['month'] == m) & (data['year'] == y),data.columns == 'hourly_demand' ].values\n",
    "    x_fin = data.loc[(data['month'] == m) & (data['year'] == y),data.columns == 'day' ].values\n",
    "    y_graph = xgb_r.predict(srs) \n",
    "    plt.plot(x_fin,y_graph,label = 'Predictions for Selected Month')\n",
    "    plt.plot(x_fin,act_val,label = 'Actual values for Selected Month')\n",
    "    plt.legend(loc=\"upper left\")\n",
    "    plt.xlabel('DAY')\n",
    "    plt.ylabel('Energy Consumption (MWh)')\n",
    "    #plt.show()\n",
    "    #demo.load(make_plot,inputs=[graph_button], outputs=[plot])\n",
    "    return plt\n",
    "def calc_xgb(temp_min, temp_max, temp_mean, temp_median, temp_max_hour, temp_min_hour, dew_point_temp_min, dew_point_temp_max,\n",
    "             dew_point_temp_mean,\n",
    "             dew_point_temp_median, dew_point_temp_max_hour, dew_point_temp_min_hour, rel_hum_min, rel_hum_max, rel_hum_mean, rel_hum_median,\n",
    "             rel_hum_max_hour,\n",
    "             rel_hum_min_hour, visibility_min, visibility_max, visibility_mean, visibility_median, visibility_max_hour, \n",
    "             visibility_min_hour,day_of_week,week_of_year,day,month,year,\n",
    "             press_min, press_max, press_mean, press_median, press_max_hour, press_min_hour, \n",
    "             hmdxx_min, hmdxx_max, hmdxx_mean,hmdxx_median, hmdxx_max_hour, hmdxx_min_hour,sun_set):\n",
    "    x_arr = [temp_min, temp_max, temp_mean, temp_median, temp_max_hour, temp_min_hour, dew_point_temp_min, dew_point_temp_max,\n",
    "             dew_point_temp_mean,\n",
    "             dew_point_temp_median, dew_point_temp_max_hour, dew_point_temp_min_hour, rel_hum_min, rel_hum_max, rel_hum_mean, rel_hum_median,\n",
    "             rel_hum_max_hour,\n",
    "             rel_hum_min_hour, visibility_min, visibility_max, visibility_mean, visibility_median, visibility_max_hour, \n",
    "             visibility_min_hour,day_of_week,week_of_year,day,month,year,\n",
    "             press_min, press_max, press_mean, press_median, press_max_hour, press_min_hour, \n",
    "             hmdxx_min, hmdxx_max, hmdxx_mean,hmdxx_median, hmdxx_max_hour, hmdxx_min_hour,sun_set]\n",
    "    pred = xgb_r.predict(np.array(x_arr).reshape(1,42))\n",
    "\n",
    "    return pred[0]\n",
    "def r_square():\n",
    "    r_xgb = metrics.r2_score(y_test,p_xgb)\n",
    "    r_rf = metrics.r2_score(y_test,p_rf)\n",
    "    r_svr = metrics.r2_score(y_test,p_svr)\n",
    "    r_mlr = metrics.r2_score(y_test,p_mlr)\n",
    "    r_lr = metrics.r2_score(y_test,p_lr)\n",
    "    r_ql = metrics.r2_score(qytest,p_ql)\n",
    "\n",
    "    mae_xgb = metrics.mean_absolute_error(y_test, p_xgb)\n",
    "    mae_rf = metrics.mean_absolute_error(y_test, p_rf)\n",
    "    mae_svr = metrics.mean_absolute_error(y_test, p_svr)\n",
    "    mae_mlr = metrics.mean_absolute_error(y_test, p_mlr)\n",
    "    mae_lr = metrics.mean_absolute_error(y_test, p_lr)\n",
    "    mae_ql = metrics.mean_absolute_error(qytest, p_ql)\n",
    "\n",
    "    mse_xgb = metrics.mean_squared_error(y_test, p_xgb)\n",
    "    mse_rf = metrics.mean_squared_error(y_test, p_rf)\n",
    "    mse_svr = metrics.mean_squared_error(y_test, p_svr)\n",
    "    mse_mlr = metrics.mean_squared_error(y_test, p_mlr)\n",
    "    mse_lr = metrics.mean_squared_error(y_test, p_lr)\n",
    "    mse_ql = metrics.mean_squared_error(qytest, p_ql)\n",
    "\n",
    "    rmse_xgb = metrics.mean_squared_error(y_test, p_xgb, squared=False)\n",
    "    rmse_rf = metrics.mean_squared_error(y_test, p_rf, squared=False)\n",
    "    rmse_svr = metrics.mean_squared_error(y_test, p_svr, squared=False)\n",
    "    rmse_mlr = metrics.mean_squared_error(y_test, p_mlr, squared=False)\n",
    "    rmse_lr = metrics.mean_squared_error(y_test, p_lr, squared=False)\n",
    "    rmse_ql = metrics.mean_squared_error(qytest, p_ql, squared=False)\n",
    "    arraytype = [r_xgb,r_rf,r_svr,r_mlr,r_lr,r_ql,mae_xgb,mae_rf,mae_svr,mae_mlr,mae_lr,mae_ql,mse_xgb,mse_rf,\n",
    "                 mse_svr,mse_mlr,mse_lr,mse_ql,rmse_xgb,rmse_rf,rmse_svr,rmse_mlr,rmse_lr,rmse_ql]\n",
    "    #np.array()\n",
    "    return arraytype"
   ]
  },
  {
   "cell_type": "markdown",
   "id": "00da65d9",
   "metadata": {},
   "source": [
    "## GUI"
   ]
  },
  {
   "cell_type": "code",
   "execution_count": 16,
   "id": "b4ca5a40-ae93-400f-8799-50ec3edd97bb",
   "metadata": {},
   "outputs": [
    {
     "name": "stdout",
     "output_type": "stream",
     "text": [
      "Running on local URL:  http://127.0.0.1:7862\n",
      "\n",
      "Thanks for being a Gradio user! If you have questions or feedback, please join our Discord server and chat with us: https://discord.gg/feTf9x3ZSB\n",
      "\n",
      "To create a public link, set `share=True` in `launch()`.\n"
     ]
    },
    {
     "data": {
      "text/html": [
       "<div><iframe src=\"http://127.0.0.1:7862/\" width=\"100%\" height=\"500\" allow=\"autoplay; camera; microphone; clipboard-read; clipboard-write;\" frameborder=\"0\" allowfullscreen></iframe></div>"
      ],
      "text/plain": [
       "<IPython.core.display.HTML object>"
      ]
     },
     "metadata": {},
     "output_type": "display_data"
    },
    {
     "data": {
      "text/plain": []
     },
     "execution_count": 16,
     "metadata": {},
     "output_type": "execute_result"
    },
    {
     "name": "stdout",
     "output_type": "stream",
     "text": [
      "IMPORTANT: You are using gradio version 4.7.1, however version 4.29.0 is available, please upgrade.\n",
      "--------\n"
     ]
    }
   ],
   "source": [
    "with gr.Blocks() as demo:\n",
    "    gr.Markdown(\"PREDICT ELECTRICITY CONSUMPTION IN HOUSEHOLD\")\n",
    "    with gr.Tab(\"XGBoost\"):\n",
    "        with gr.Row():\n",
    "            temp_min=gr.Number(label=\"Temp Min (in Celsius)\" )\n",
    "            temp_max=gr.Number(label=\"Temp Max (in Celsius)\" )\n",
    "            temp_mean=gr.Number(label=\"Temp Mean (in Celsius)\" )\n",
    "            temp_median=gr.Number(label=\"Temp Median (in Celsius)\")\n",
    "        with gr.Row():\n",
    "            temp_min_hour=gr.Number(label=\"Temp Min Hour\" )\n",
    "            temp_max_hour=gr.Number(label=\"Temp Max Hour\")\n",
    "        \n",
    "        with gr.Row():\n",
    "            dew_point_temp_min=gr.Number(label=\"Dew Point Temp Min (in Celsius)\")\n",
    "            dew_point_temp_max=gr.Number(label=\"Dew Point Temp Max (in Celsius)\")\n",
    "            dew_point_temp_mean=gr.Number(label=\"Dew Point Temp Mean (in Celsius)\")\n",
    "            dew_point_temp_median=gr.Number(label=\"Dew Point Temp Median (in Celsius)\")\n",
    "        with gr.Row():\n",
    "            dew_point_temp_min_hour=gr.Slider(0,24,label=\"Dew Point Temp Min Hour\", info=\"Choose between 0 and 24\")\n",
    "            dew_point_temp_max_hour=gr.Slider(0,24,label=\"Dew Point Temp Max Hour\", info=\"Choose between 0 and 24\")\n",
    "\n",
    "        with gr.Row():\n",
    "            rel_hum_min = gr.Number(label=\"Rel Hum Min (in percentage)\")\n",
    "            rel_hum_max = gr.Number(label=\"Rel Hum Max (in percentage)\")\n",
    "            rel_hum_mean = gr.Number(label=\"Rel Hum Mean (in percentage)\")\n",
    "            rel_hum_median = gr.Number(label=\"Rel Hum Median (in percentage)\")\n",
    "\n",
    "        with gr.Row():\n",
    "            rel_hum_max_hour = gr.Number(label=\"Rel Hum Max Hour\", info=\"Choose between 0 and 24\")\n",
    "            rel_hum_min_hour = gr.Number(label=\"Rel Hum Min Hour\", info=\"Choose between 0 and 24\")\n",
    "\n",
    "        with gr.Row():\n",
    "            visibility_min = gr.Slider(0,60,label=\"Visibility Min (in kms)\", info=\"Choose between 0 and 60\")\n",
    "            visibility_max = gr.Slider(0,60,label=\"Visibility Max (in kms)\", info=\"Choose between 0 and 60\")\n",
    "            visibility_mean = gr.Slider(0,60,label=\"Visibility Mean (in kms)\", info=\"Choose between 0 and 60\")\n",
    "            visibility_median = gr.Slider(0,60,label=\"Visibility Median (in kms)\", info=\"Choose between 0 and 60\")\n",
    "\n",
    "        with gr.Row():\n",
    "            visibility_max_hour = gr.Number(label=\"Visibility Max Hour\", info=\"Choose between 0 and 24\")\n",
    "            visibility_min_hour = gr.Number(label=\"Visibility Min Hour\", info=\"Choose between 0 and 24\")\n",
    "\n",
    "        with gr.Row():\n",
    "            press_min=gr.Number(label=\"Pressure Min (in kPa)\")\n",
    "            press_max=gr.Number(label=\"Pressure Max (in kPa)\")\n",
    "            press_mean=gr.Number(label=\"Pressure Mean (in kPa)\")\n",
    "            press_median=gr.Number(label=\"Pressure Median (in kPa)\")\n",
    "        with gr.Row():\n",
    "            press_max_hour=gr.Number(label=\"Pressure Max Hour\", info=\"Choose between 0 and 24\")\n",
    "            press_min_hour=gr.Number(label=\"Pressure Min Hour\", info=\"Choose between 0 and 24\")\n",
    "        with gr.Row():\n",
    "            hmdxx_min=gr.Number(label=\"Humidex Min\")\n",
    "            hmdxx_max=gr.Number(label=\"Humidex Max\")\n",
    "            hmdxx_mean=gr.Number(label=\"Humidex Mean\")\n",
    "            hmdxx_median=gr.Number(label=\"Humidex Median\")\n",
    "        \n",
    "        with gr.Row():\n",
    "            hmdxx_max_hour=gr.Number(label=\"Humidex Max Hour\", info=\"Choose between 0 and 24\")\n",
    "            hmdxx_min_hour=gr.Number(label=\"Humidex Min Hour\", info=\"Choose between 0 and 24\")\n",
    "            day_of_week = gr.Number(label=\"Day Of Week\", info=\"Choose between 0 and 7\")\n",
    "        with gr.Row():\n",
    "            day=gr.Number(label=\"Day\", info=\"Choose between 1 and 31\")\n",
    "            week_of_year = gr.Number(label=\"Week Of Year\", info=\"Choose between 1 and 52\")\n",
    "            month=gr.Number(label=\"Month\", info=\"Choose between 1 and 12\")\n",
    "            year=gr.Number(label=\"Year\")\n",
    "        with gr.Row():\n",
    "            sun_set=gr.Slider(0, 24, label=\"Sun Set\", info=\"Choose between 0 and 24\")\n",
    "        \n",
    "        text_output = gr.Textbox(label='Predicted Value (in MWh)')\n",
    "        \n",
    "        xgb_button = gr.Button(\"Predict\")\n",
    "    with gr.Tab(\"Graph\"):\n",
    "        #dim=gr.Number(label=\"Hmdxx Min\", info=\"Choose between -50 and 50\")\n",
    "        \n",
    "        m=gr.Number(label=\"Month\", info=\"Choose between -50 and 50\")\n",
    "        y=gr.Number(label=\"Year\", info=\"Choose between -50 and 50\")\n",
    "        plot = gr.Plot(label=\"Plot\")\n",
    "        graph_button = gr.Button(\"Display Graph\")\n",
    "        #plot = gr.Plot(label=\"Plot\")\n",
    "        graph_button.click(make_plot,inputs = [m,y],outputs=[plot])\n",
    "        #demo.load(make_plot,outputs=[plot])\n",
    "        \n",
    "    with gr.Tab(\"Evaluation Metrics\"):\n",
    "        with gr.Row():\n",
    "            gr.Label('R-Squared Values')\n",
    "            xgb_output = gr.Textbox(label='XGB')\n",
    "            rf_output = gr.Textbox(label='RF')\n",
    "            svr_output = gr.Textbox(label='SVR')\n",
    "            mlr_output = gr.Textbox(label='MLR')\n",
    "            lr_output = gr.Textbox(label='LR')\n",
    "            ql_output = gr.Textbox(label='QLattice')\n",
    "        with gr.Row():\n",
    "            gr.Label('Mean Absolute Error Values')\n",
    "            a = gr.Textbox(label='XGB')\n",
    "            b = gr.Textbox(label='RF')\n",
    "            c=gr.Textbox(label='SVR')\n",
    "            d=gr.Textbox(label='MLR')\n",
    "            e=gr.Textbox(label='LR')\n",
    "            f = gr.Textbox(label='QLattice')\n",
    "        with gr.Row():\n",
    "            gr.Label('Mean Squared Error Values')\n",
    "            aa=gr.Textbox(label='XGB')\n",
    "            bb=gr.Textbox(label='RF')\n",
    "            cc=gr.Textbox(label='SVR')\n",
    "            dd=gr.Textbox(label='MLR')\n",
    "            ee=gr.Textbox(label='LR')\n",
    "            ff = gr.Textbox(label='QLattice')\n",
    "        with gr.Row():\n",
    "            gr.Label('Root Mean Squared Error Values')\n",
    "            aaa=gr.Textbox(label='XGB')\n",
    "            bbb=gr.Textbox(label='RF')\n",
    "            ccc=gr.Textbox(label='SVR')\n",
    "            ddd=gr.Textbox(label='MLR')\n",
    "            eee=gr.Textbox(label='LR')\n",
    "            fff = gr.Textbox(label='QLattice')\n",
    "            \n",
    "\n",
    "        disp_button = gr.Button(\"Display\")\n",
    "    \n",
    "    xgb_button.click(calc_xgb, inputs=[temp_min, temp_max, temp_mean, temp_median, temp_max_hour, temp_min_hour, dew_point_temp_min, dew_point_temp_max,\n",
    "             dew_point_temp_mean,\n",
    "             dew_point_temp_median, dew_point_temp_max_hour, dew_point_temp_min_hour, rel_hum_min, rel_hum_max, rel_hum_mean, rel_hum_median,\n",
    "             rel_hum_max_hour,\n",
    "             rel_hum_min_hour, visibility_min, visibility_max, visibility_mean, visibility_median, visibility_max_hour, \n",
    "             visibility_min_hour,day_of_week,week_of_year,day,month,year,\n",
    "             press_min, press_max, press_mean, press_median, press_max_hour, press_min_hour, \n",
    "             hmdxx_min, hmdxx_max, hmdxx_mean,hmdxx_median, hmdxx_max_hour, hmdxx_min_hour,sun_set], outputs=text_output)\n",
    "    disp_button.click(r_square,  outputs=[xgb_output,rf_output,svr_output,mlr_output,lr_output,ql_output,a,b,c,d,e,f,aa,bb,cc,dd,ee,ff,aaa,bbb,ccc,ddd,eee,fff])\n",
    "\n",
    "demo.launch()"
   ]
  },
  {
   "cell_type": "code",
   "execution_count": null,
   "id": "9343d77e-5542-49c6-aede-c716235c7151",
   "metadata": {},
   "outputs": [],
   "source": []
  }
 ],
 "metadata": {
  "kernelspec": {
   "display_name": "Python 3 (ipykernel)",
   "language": "python",
   "name": "python3"
  },
  "language_info": {
   "codemirror_mode": {
    "name": "ipython",
    "version": 3
   },
   "file_extension": ".py",
   "mimetype": "text/x-python",
   "name": "python",
   "nbconvert_exporter": "python",
   "pygments_lexer": "ipython3",
   "version": "3.10.10"
  }
 },
 "nbformat": 4,
 "nbformat_minor": 5
}
